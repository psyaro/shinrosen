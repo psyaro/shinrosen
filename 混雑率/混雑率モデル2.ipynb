{
 "cells": [
  {
   "cell_type": "code",
   "execution_count": 37,
   "metadata": {},
   "outputs": [],
   "source": [
    "import pandas as pd\n",
    "import geopandas as gpd\n",
    "import contextily as cx\n",
    "import numpy as np\n",
    "import matplotlib.pyplot as plt\n",
    "import japanize_matplotlib\n",
    "from shapely.geometry import Point, LineString, MultiLineString, Polygon\n",
    "plt.style.use(['classic'])\n",
    "geojson = 'GeoJSON'"
   ]
  },
  {
   "cell_type": "code",
   "execution_count": 38,
   "metadata": {},
   "outputs": [],
   "source": [
    "mesh = gpd.read_file('../../data/2019/mesh500/HDDSWH5339/MESH05339.shp', crs=6668).to_crs(2451)"
   ]
  },
  {
   "cell_type": "code",
   "execution_count": 40,
   "metadata": {},
   "outputs": [
    {
     "name": "stdout",
     "output_type": "stream",
     "text": [
      "array('d', [-75188.81034767757, -75757.00108741024, -75753.11240976886, -75184.95084125925, -75188.81034767757])\n",
      "array('d', [-73647.29503978923, -73642.5332880143, -73180.28514912556, -73185.04714486256, -73647.29503978923])\n"
     ]
    },
    {
     "data": {
      "text/plain": [
       "<AxesSubplot:>"
      ]
     },
     "execution_count": 40,
     "metadata": {},
     "output_type": "execute_result"
    },
    {
     "data": {
      "image/png": "[encoded data removed]",
      "text/plain": [
       "<Figure size 640x480 with 1 Axes>"
      ]
     },
     "metadata": {},
     "output_type": "display_data"
    }
   ],
   "source": [
    "geoms = []\n",
    "xarray, yarray = mesh.geometry[0].exterior.coords.xy\n",
    "print(xarray)\n",
    "print(yarray)\n",
    "xlen, ylen = (xarray[0] - xarray[1]) / 5, (yarray[2] - yarray[1]) / 5\n",
    "for x in range(5):\n",
    "    for y in range(5):\n",
    "        geoms.append(Polygon([\n",
    "            (xarray[0] + xlen * x, yarray[0] - ylen * y),\n",
    "            (xarray[0] + xlen * (x+1), yarray[0] - ylen * y),\n",
    "            (xarray[0] + xlen * (x+1), yarray[0] - ylen * (y+1)),\n",
    "            (xarray[0] + xlen * x, yarray[0] - ylen * (y+1)),\n",
    "            (xarray[0] + xlen * x, yarray[0] - ylen * y)\n",
    "    ]))\n",
    "df = gpd.GeoDataFrame([None for x in range(25)], geometry=geoms)\n",
    "df.plot()"
   ]
  },
  {
   "cell_type": "code",
   "execution_count": 52,
   "metadata": {},
   "outputs": [],
   "source": [
    "kokusei = pd.DataFrame()\n",
    "for x in mesh.MESH1_ID.unique():\n",
    "    kokusei = pd.concat([kokusei,\n",
    "        pd.read_csv(f\"../data/2019/kokutyou500/tblT000847H{x}.txt\", encoding='sjis', skiprows=[1])])\n",
    "kokusei = kokusei[['KEY_CODE', 'T000847001']]\n",
    "kokusei.columns = ['KEY_CODE', 'people']\n",
    "kokusei.KEY_CODE = kokusei.KEY_CODE.astype(str)\n",
    "kokusei = pd.merge(mesh[['KEY_CODE', 'geometry']], kokusei, on='KEY_CODE')\n",
    "kokusei['area_t'] = kokusei.area"
   ]
  },
  {
   "cell_type": "code",
   "execution_count": 53,
   "metadata": {},
   "outputs": [],
   "source": [
    "keizai = pd.DataFrame()\n",
    "for x in mesh.MESH1_ID.unique():\n",
    "    keizai = pd.concat([keizai,\n",
    "        pd.read_csv(f\"../data/2019/keizai500/tblT000389H{x}.txt\", encoding='sjis', skiprows=[1])])\n",
    "keizai.columns = ['KEY_CODE', 'company', 'people']\n",
    "keizai.KEY_CODE = keizai.KEY_CODE.astype(str)\n",
    "keizai = pd.merge(mesh, keizai, on='KEY_CODE')\n",
    "keizai['area_t'] = keizai.area"
   ]
  },
  {
   "cell_type": "code",
   "execution_count": 54,
   "metadata": {},
   "outputs": [],
   "source": [
    "stations = gpd.read_file('../data/railway/ekidata.geojson', crs=4326).to_crs(2451)"
   ]
  },
  {
   "cell_type": "code",
   "execution_count": 55,
   "metadata": {},
   "outputs": [],
   "source": [
    "tokyoeki = stations[stations.station_name.str.contains('東京')].geometry.values[0]"
   ]
  }
 ],
 "metadata": {
  "kernelspec": {
   "display_name": "Python 3.9.2 64-bit",
   "language": "python",
   "name": "python3"
  },
  "language_info": {
   "codemirror_mode": {
    "name": "ipython",
    "version": 3
   },
   "file_extension": ".py",
   "mimetype": "text/x-python",
   "name": "python",
   "nbconvert_exporter": "python",
   "pygments_lexer": "ipython3",
   "version": "3.9.2"
  },
  "orig_nbformat": 4,
  "vscode": {
   "interpreter": {
    "hash": "e382683cf79178df3851f66156954844fa21ded8d8dbdfe473c3d2f0f3ac270f"
   }
  }
 },
 "nbformat": 4,
 "nbformat_minor": 2
}
